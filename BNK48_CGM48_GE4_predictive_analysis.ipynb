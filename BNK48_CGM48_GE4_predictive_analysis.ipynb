{
 "cells": [
  {
   "cell_type": "markdown",
   "metadata": {},
   "source": [
    "# **Predictive Analysis of BNK48 & CGM48's 16th Single General Election**"
   ]
  },
  {
   "cell_type": "markdown",
   "metadata": {},
   "source": [
    "![GE4 General Election Banner](GE4banner.jpeg)\n",
    "\n",
    "*Image Source: [BNK48 Official YouTube Video](https://www.youtube.com/watch?v=4EGrHyXIvf0)*"
   ]
  },
  {
   "cell_type": "markdown",
   "metadata": {},
   "source": [
    "# Table of Contents\n",
    "1. [Introduction to the 48 Group](#1)\n",
    "2. [Understanding the General Election](#2)\n",
    "3. [Data Collection Methodology](#3)\n",
    "4. [Dataset Overview](#4)\n",
    "5. [Exploratory Data Analysis](#5)\n",
    "6. [Predictive Model Building](#6)\n",
    "   - [Regression Analysis](#6-1)\n",
    "   - [XGBoost](#6-2)\n",
    "   - [LightGBM](#6-3)\n",
    "   - [Hyperparameter Tuning (Optuna)](#6-4)\n",
    "7. [Feature Importance Analysis](#7)\n",
    "8. [Conclusion and Insights](#8)"
   ]
  },
  {
   "cell_type": "markdown",
   "metadata": {},
   "source": [
    "<a id='1'></a>\n",
    "\n",
    "## 1. Introduction to the 48 Group\n",
    "\n",
    "Welcome to the predictive analysis project for the 16th Single General Election of BNK48 and CGM48, the Thai sister groups of the international 48 Group. These idol groups have revolutionized pop culture in Asia, capturing the hearts of fans through music, performances, and interactive fan events.\n",
    "\n",
    "The 48 Group, which originated in Japan with AKB48, is known for its unique concept of \"idols you can meet.\" The groups have localized sister groups in several countries, each with its own teams of performers. BNK48 and CGM48 are based in Thailand and have garnered a significant following through their engaging performances and public appearances."
   ]
  },
  {
   "cell_type": "markdown",
   "metadata": {},
   "source": [
    "<a id='2'></a>\n",
    "\n",
    "## 2. Understanding the General Election\n",
    "\n",
    "### General Election\n",
    "\n",
    "The General Election is a hallmark event for 48 Group fans, where supporters vote for their favorite members. The outcome of this event is crucial as it determines the lineup for the next single and often influences the group's direction. Like the 3rd election, BNK48 and CGM48 utilized a blockchain-based token voting system within the iAM48 application for this 4th election, showcasing a blend of pop culture and cutting-edge technology. Preliminary results are announced to the fans at two separate events before the final results, adding to the excitement and speculation about the final rankings.\n",
    "\n",
    "### Key Terms\n",
    "\n",
    "- **Senbatsu**: The selected members who will perform the A-side of a single.\n",
    "- **Coupling Song**: Additional tracks featured on a single, often performed by non-Senbatsu members.\n",
    "- **Oshi**: A fan's favorite member, akin to a \"most supported\" idol.\n",
    "- **Kami**: Derived from \"Kamisama\" meaning \"God,\" referring to top-ranked idols.\n",
    "- **Team**: Subgroups within BNK48 and CGM48, each with distinct identities and songs.\n",
    "- **Center**: The lead position in a group's formation, often front and center during performances.\n",
    "- **Kami7**: The elite top seven idols as determined by fan votes in the general election. These members are considered the most popular and influential within the group.\n",
    "- **Senbatsu**: The top 16 members selected to perform on the main track of a single, often considered the face of the group during promotions.\n",
    "- **Under Girls**: Members who rank 17th to 32nd in the general election. They typically perform on the B-side of a single and are featured in secondary promotions.\n",
    "- **Next Girls**: Ranks 33 to 48 from the election, these members are featured in additional songs and are recognized for their potential and growing popularity."
   ]
  },
  {
   "cell_type": "markdown",
   "metadata": {},
   "source": [
    "<a id='3'></a>\n",
    "\n",
    "## 3. Data Collection Methodology\n",
    "\n",
    "### Data Sources\n",
    "The data for the analysis of the 3rd and 4th General Elections of BNK48 & CGM48 was gathered from a combination of online sources on 17 December 2023. The primary sources of data were:\n",
    "\n",
    "- Twitter account [@Stats48TH](https://twitter.com/Stats48TH): An unofficial source providing comprehensive statistics and information on the members of BNK48 and CGM48.\n",
    "- Wikipedia page for the ([3rd General Election 12th Single](https://th.wikipedia.org/wiki/กาลเลือกตั้งที่วายแปลกประจำปี_2562)): This page offers a detailed account of the election results and related information.\n",
    "  \n",
    "### Data Extraction\n",
    "The data extraction process involved the following steps:\n",
    "\n",
    "- **Reviewing Twitter Data**: The Twitter account provided exhaustive data summaries, which were used to understand the election results and member statistics.\n",
    "- **Wikipedia Research**: The Wikipedia page for the 3rd General Election results was reviewed to corroborate the data obtained from Twitter and to ensure a comprehensive understanding of the event.\n",
    "- **Database Analysis**: A detailed Excel database titled 'Database members BNK48 & CGM48 (10_12_2023 21.45).xlsx' was meticulously examined. This file was provided by @Stats48TH and contained in-depth data regarding the election outcomes and member details.\n",
    "- **Power Query (Get Data)**: The Power Query tool in Excel was employed to extract features from the provided database, allowing for the integration of multiple data points into the analysis.\n",
    "\n",
    "### Data Processing\n",
    "The collected data underwent a series of processing steps to prepare it for analysis:\n",
    "\n",
    "- **OCR (Optical Character Recognition)**: For images and scanned documents, OCR technology was utilized to digitize the data, transforming it into a format suitable for data analysis.\n",
    "- **Data Scraping**: Data scraping techniques were applied to online sources to convert the information into a structured format.\n",
    "- **Data Cleaning**: The raw data was cleaned to correct inaccuracies and format inconsistencies, ensuring the quality and reliability of the dataset for subsequent analysis.\n",
    "\n",
    "### Final Dataset\n",
    "The final dataset was compiled by joining the information from the above methods, resulting in a comprehensive view of the election results and the participating members' statistics. This dataset forms the basis for the exploratory data analysis and predictive modeling carried out in this project.\n"
   ]
  },
  {
   "cell_type": "markdown",
   "metadata": {},
   "source": [
    "<a id='4'></a>\n",
    "\n",
    "## 4. Dataset Overview\n",
    "\n",
    "This dataset includes detailed statistics from the latest General Election, including votes counted via blockchain technology, member rankings, and various other metrics that could influence the election outcomes."
   ]
  },
  {
   "cell_type": "markdown",
   "metadata": {},
   "source": [
    "<a id='5'></a>\n",
    "\n",
    "## 5. Exploratory Data Analysis"
   ]
  },
  {
   "cell_type": "markdown",
   "metadata": {},
   "source": [
    "<a id='6'></a>\n",
    "\n",
    "## 6. Predictive Model Building"
   ]
  },
  {
   "cell_type": "markdown",
   "metadata": {},
   "source": [
    "<a id='6-1'></a>\n",
    "\n",
    "### 6.1 Regression Analysis"
   ]
  },
  {
   "cell_type": "markdown",
   "metadata": {},
   "source": [
    "<a id='6-2'></a>\n",
    "\n",
    "### 6.2 XGBoost\n"
   ]
  },
  {
   "cell_type": "markdown",
   "metadata": {},
   "source": [
    "<a id='6-3'></a>\n",
    "\n",
    "### 6.3 LightGBM"
   ]
  },
  {
   "cell_type": "markdown",
   "metadata": {},
   "source": [
    "<a id='6-5'></a>\n",
    "\n",
    "### 6.4 Hyperparameter Tuning (Optuna)"
   ]
  },
  {
   "cell_type": "markdown",
   "metadata": {},
   "source": [
    "<a id='7'></a>\n",
    "\n",
    "## 7. Feature Importance Analysis"
   ]
  },
  {
   "cell_type": "markdown",
   "metadata": {},
   "source": [
    "<a id='8'></a>\n",
    "\n",
    "## 8. Conclusion and Insights"
   ]
  }
 ],
 "metadata": {
  "language_info": {
   "name": "python"
  }
 },
 "nbformat": 4,
 "nbformat_minor": 2
}
