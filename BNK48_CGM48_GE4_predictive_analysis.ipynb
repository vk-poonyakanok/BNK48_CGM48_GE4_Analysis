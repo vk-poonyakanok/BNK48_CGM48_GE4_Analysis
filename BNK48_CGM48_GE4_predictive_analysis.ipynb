{
 "cells": [
  {
   "cell_type": "markdown",
   "metadata": {},
   "source": [
    "# **Predictive Analysis of BNK48 & CGM48's 16th Single General Election**"
   ]
  },
  {
   "cell_type": "markdown",
   "metadata": {},
   "source": [
    "# Table of Contents\n",
    "1. [Introduction to the 48 Group](#1)\n",
    "2. [Understanding the General Election](#2)\n",
    "3. [Data Collection Methodology](#3)\n",
    "4. [Dataset Overview](#4)\n",
    "5. [Exploratory Data Analysis](#5)\n",
    "6. [Predictive Model Building](#6)\n",
    "   - [Regression Analysis](#6-1)\n",
    "   - [XGBoost](#6-2)\n",
    "   - [LightGBM](#6-3)\n",
    "   - [Hyperparameter Tuning (Optuna)](#6-4)\n",
    "7. [Feature Importance Analysis](#7)\n",
    "8. [Conclusion and Insights](#8)"
   ]
  },
  {
   "cell_type": "markdown",
   "metadata": {},
   "source": [
    "<a id='1'></a>\n",
    "## 1. Introduction to the 48 Group\n",
    "\n",
    "Welcome to the predictive analysis project for the 16th Single General Election of BNK48 and CGM48, the Thai sister groups of the international 48 Group. These idol groups have revolutionized pop culture in Asia, capturing the hearts of fans through music, performances, and interactive fan events.\n",
    "\n",
    "The 48 Group, which originated in Japan with AKB48, is known for its unique concept of \"idols you can meet.\" The groups have localized sister groups in several countries, each with its own teams of performers. BNK48 and CGM48 are based in Thailand and have garnered a significant following through their engaging performances and public appearances."
   ]
  },
  {
   "cell_type": "markdown",
   "metadata": {},
   "source": [
    "<a id='2'></a>\n",
    "## 2. Understanding the General Election\n",
    "\n",
    "### General Election\n",
    "\n",
    "The General Election is a hallmark event for 48 Group fans, where supporters vote for their favorite members. The outcome of this event is crucial as it determines the lineup for the next single and often influences the group's direction. Like the 3rd election, BNK48 and CGM48 utilized a blockchain-based token voting system within the iAM48 application for this 4th election, showcasing a blend of pop culture and cutting-edge technology. Preliminary results are announced to the fans at two separate events before the final results, adding to the excitement and speculation about the final rankings.\n",
    "\n",
    "### Key Terms\n",
    "\n",
    "- **Senbatsu**: The selected members who will perform the A-side of a single.\n",
    "- **Coupling Song**: Additional tracks featured on a single, often performed by non-Senbatsu members.\n",
    "- **Oshi**: A fan's favorite member, akin to a \"most supported\" idol.\n",
    "- **Kami**: Derived from \"Kamisama\" meaning \"God,\" referring to top-ranked idols.\n",
    "- **Team**: Subgroups within BNK48 and CGM48, each with distinct identities and songs.\n",
    "- **Center**: The lead position in a group's formation, often front and center during performances.\n",
    "- **Kami7**: The elite top seven idols as determined by fan votes in the general election. These members are considered the most popular and influential within the group.\n",
    "- **Senbatsu**: The top 16 members selected to perform on the main track of a single, often considered the face of the group during promotions.\n",
    "- **Under Girls**: Members who rank 17th to 32nd in the general election. They typically perform on the B-side of a single and are featured in secondary promotions.\n",
    "- **Next Girls**: Ranks 33 to 48 from the election, these members are featured in additional songs and are recognized for their potential and growing popularity."
   ]
  },
  {
   "cell_type": "markdown",
   "metadata": {},
   "source": [
    "<a id='3'></a>\n",
    "## 3. Data Collection Methodology"
   ]
  },
  {
   "cell_type": "markdown",
   "metadata": {},
   "source": [
    "<a id='4'></a>\n",
    "## 4. Dataset Overview\n",
    "\n",
    "This dataset includes detailed statistics from the latest General Election, including votes counted via blockchain technology, member rankings, and various other metrics that could influence the election outcomes."
   ]
  },
  {
   "cell_type": "markdown",
   "metadata": {},
   "source": [
    "<a id='5'></a>\n",
    "## 5. Exploratory Data Analysis"
   ]
  },
  {
   "cell_type": "markdown",
   "metadata": {},
   "source": [
    "<a id='6'></a>\n",
    "## 6. Predictive Model Building"
   ]
  },
  {
   "cell_type": "markdown",
   "metadata": {},
   "source": [
    "<a id='6-1'></a>\n",
    "### 6.1 Regression Analysis"
   ]
  },
  {
   "cell_type": "markdown",
   "metadata": {},
   "source": [
    "<a id='6-2'></a>\n",
    "### 6.2 XGBoost\n"
   ]
  },
  {
   "cell_type": "markdown",
   "metadata": {},
   "source": [
    "<a id='6-3'></a>\n",
    "### 6.3 LightGBM"
   ]
  },
  {
   "cell_type": "markdown",
   "metadata": {},
   "source": [
    "<a id='6-5'></a>\n",
    "### 6.4 Hyperparameter Tuning (Optuna)"
   ]
  },
  {
   "cell_type": "markdown",
   "metadata": {},
   "source": [
    "<a id='7'></a>\n",
    "## 7. Feature Importance Analysis"
   ]
  },
  {
   "cell_type": "markdown",
   "metadata": {},
   "source": [
    "<a id='8'></a>\n",
    "## 8. Conclusion and Insights"
   ]
  }
 ],
 "metadata": {
  "language_info": {
   "name": "python"
  }
 },
 "nbformat": 4,
 "nbformat_minor": 2
}
